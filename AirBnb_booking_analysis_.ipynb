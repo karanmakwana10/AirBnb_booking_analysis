{
  "nbformat": 4,
  "nbformat_minor": 0,
  "metadata": {
    "colab": {
      "private_outputs": true,
      "provenance": [],
      "collapsed_sections": [
        "vncDsAP0Gaoa",
        "FJNUwmbgGyua",
        "w6K7xa23Elo4",
        "yQaldy8SH6Dl",
        "PH-0ReGfmX4f",
        "mDgbUHAGgjLW",
        "O_i_v8NEhb9l",
        "HhfV-JJviCcP",
        "Y3lxredqlCYt",
        "3RnN4peoiCZX",
        "x71ZqKXriCWQ",
        "7hBIi_osiCS2",
        "JlHwYmJAmNHm",
        "35m5QtbWiB9F",
        "PoPl-ycgm1ru",
        "H0kj-8xxnORC",
        "nA9Y7ga8ng1Z",
        "PBTbrJXOngz2",
        "u3PMJOP6ngxN",
        "dauF4eBmngu3",
        "bKJF3rekwFvQ",
        "MSa1f5Uengrz",
        "GF8Ens_Soomf",
        "0wOQAZs5pc--",
        "K5QZ13OEpz2H",
        "lQ7QKXXCp7Bj",
        "448CDAPjqfQr",
        "KSlN3yHqYklG",
        "t6dVpIINYklI",
        "ijmpgYnKYklI",
        "-JiQyfWJYklI",
        "EM7whBJCYoAo",
        "fge-S5ZAYoAp",
        "85gYPyotYoAp",
        "RoGjAbkUYoAp",
        "4Of9eVA-YrdM",
        "iky9q4vBYrdO",
        "F6T5p64dYrdO",
        "y-Ehk30pYrdP",
        "bamQiAODYuh1",
        "QHF8YVU7Yuh3",
        "GwzvFGzlYuh3",
        "qYpmQ266Yuh3",
        "OH-pJp9IphqM",
        "bbFf2-_FphqN",
        "_ouA3fa0phqN",
        "Seke61FWphqN",
        "PIIx-8_IphqN",
        "t27r6nlMphqO",
        "r2jJGEOYphqO",
        "b0JNsNcRphqO",
        "BZR9WyysphqO",
        "jj7wYXLtphqO",
        "eZrbJ2SmphqO",
        "rFu4xreNphqO",
        "YJ55k-q6phqO",
        "gCFgpxoyphqP",
        "OVtJsKN_phqQ",
        "lssrdh5qphqQ",
        "U2RJ9gkRphqQ",
        "1M8mcRywphqQ",
        "tgIPom80phqQ",
        "JMzcOPDDphqR",
        "x-EpHcCOp1ci",
        "X_VqEhTip1ck",
        "8zGJKyg5p1ck",
        "PVzmfK_Ep1ck",
        "n3dbpmDWp1ck",
        "ylSl6qgtp1ck",
        "ZWILFDl5p1ck",
        "M7G43BXep1ck",
        "Ag9LCva-p1cl",
        "E6MkPsBcp1cl",
        "2cELzS2fp1cl",
        "3MPXvC8up1cl",
        "NC_X3p0fY2L0",
        "UV0SzAkaZNRQ",
        "YPEH6qLeZNRQ",
        "q29F0dvdveiT",
        "EXh0U9oCveiU",
        "22aHeOlLveiV",
        "JcMwzZxoAimU",
        "8G2x9gOozGDZ",
        "gCX9965dhzqZ",
        "gIfDvo9L0UH2"
      ]
    },
    "kernelspec": {
      "name": "python3",
      "display_name": "Python 3"
    },
    "language_info": {
      "name": "python"
    }
  },
  "cells": [
    {
      "cell_type": "markdown",
      "source": [
        "# **Project Name**    -\n",
        "###Air bnb booking anaylsis\n"
      ],
      "metadata": {
        "id": "vncDsAP0Gaoa"
      }
    },
    {
      "cell_type": "markdown",
      "source": [
        "##### **Project Type**    - EDA\n",
        "##### **Contribution**    - Individual\n",
        "##### **Name              - Karan Makwana"
      ],
      "metadata": {
        "id": "beRrZCGUAJYm"
      }
    },
    {
      "cell_type": "markdown",
      "source": [
        "# **Project Summary -**"
      ],
      "metadata": {
        "id": "FJNUwmbgGyua"
      }
    },
    {
      "cell_type": "markdown",
      "source": [
        "This project involves cleaning, exploring, and analyzing the Airbnb NYC 2019 dataset, which contains 48,895 listings with details about hosts, neighborhoods, room types, prices, reviews, and availability. The primary goal is to identify and resolve issues in the data while gaining insights into Airbnb trends in NYC.\n",
        "\n",
        "Key Steps:\n",
        "Data Cleaning:\n",
        "\n",
        "Handle missing values in name, host_name, last_review, and reviews_per_month.\n",
        "Correct data types for columns like last_review.\n",
        "\n",
        "Data Exploration:\n",
        "\n",
        "Examine relationships between room types, pricing, and neighborhoods.\n",
        "Identify and address outliers in numerical columns such as price and minimum_nights.\n",
        "\n",
        "Feature Engineering:\n",
        "\n",
        "Derive insights by grouping listings by neighborhood or host activity.\n",
        "Compute metrics like average price per neighborhood group or popular room types.\n",
        "\n",
        "Insights:\n",
        "\n",
        "Highlight trends in pricing, availability, and reviews.\n",
        "Provide actionable recommendations for hosts or potential guests based on the data.\n",
        "\n",
        "\n",
        "\n",
        "\n",
        "\n",
        "\n",
        "\n",
        "\n"
      ],
      "metadata": {
        "id": "F6v_1wHtG2nS"
      }
    },
    {
      "cell_type": "markdown",
      "source": [
        "# **GitHub Link -**"
      ],
      "metadata": {
        "id": "w6K7xa23Elo4"
      }
    },
    {
      "cell_type": "markdown",
      "source": [
        "Provide your GitHub Link here."
      ],
      "metadata": {
        "id": "h1o69JH3Eqqn"
      }
    },
    {
      "cell_type": "markdown",
      "source": [
        "# **Problem Statement**\n"
      ],
      "metadata": {
        "id": "yQaldy8SH6Dl"
      }
    },
    {
      "cell_type": "markdown",
      "source": [
        "The Airbnb NYC 2019 dataset contains information on nearly 49,000 listings, but the data is messy, with missing values, outliers, and inconsistencies. The challenge is to clean and transform the dataset to ensure accuracy and usability for analysis. By resolving these issues, we aim to uncover insights about pricing, availability, and popular locations, enabling better decision-making for hosts, guests, and stakeholders in the Airbnb ecosystem."
      ],
      "metadata": {
        "id": "DpeJGUA3kjGy"
      }
    },
    {
      "cell_type": "markdown",
      "source": [
        "#### **Define Your Business Objective?**"
      ],
      "metadata": {
        "id": "PH-0ReGfmX4f"
      }
    },
    {
      "cell_type": "markdown",
      "source": [
        "To optimize the value of Airbnb listings in New York City by identifying trends, patterns, and anomalies in the data. Specifically, the project aims to:\n",
        "\n",
        "1 Assist Hosts: Provide insights on competitive pricing, optimal availability, and strategies to attract more guests.\n",
        "\n",
        "2 Support Guests: Identify affordable and highly rated accommodations based on location and preferences.\n",
        "\n",
        "3 Improve Platform Performance: Help Airbnb better understand listing dynamics, host behaviors, and guest demands in NYC to enhance the user experience and maximize revenue opportunities."
      ],
      "metadata": {
        "id": "PhDvGCAqmjP1"
      }
    },
    {
      "cell_type": "markdown",
      "source": [
        "# **General Guidelines** : -  "
      ],
      "metadata": {
        "id": "mDgbUHAGgjLW"
      }
    },
    {
      "cell_type": "markdown",
      "source": [
        "1.   Well-structured, formatted, and commented code is required.\n",
        "2.   Exception Handling, Production Grade Code & Deployment Ready Code will be a plus. Those students will be awarded some additional credits.\n",
        "     \n",
        "     The additional credits will have advantages over other students during Star Student selection.\n",
        "       \n",
        "             [ Note: - Deployment Ready Code is defined as, the whole .ipynb notebook should be executable in one go\n",
        "                       without a single error logged. ]\n",
        "\n",
        "3.   Each and every logic should have proper comments.\n",
        "4. You may add as many number of charts you want. Make Sure for each and every chart the following format should be answered.\n",
        "        \n",
        "\n",
        "```\n",
        "# Chart visualization code\n",
        "```\n",
        "            \n",
        "\n",
        "*   Why did you pick the specific chart?\n",
        "*   What is/are the insight(s) found from the chart?\n",
        "* Will the gained insights help creating a positive business impact?\n",
        "Are there any insights that lead to negative growth? Justify with specific reason.\n",
        "\n",
        "5. You have to create at least 20 logical & meaningful charts having important insights.\n",
        "\n",
        "\n",
        "[ Hints : - Do the Vizualization in  a structured way while following \"UBM\" Rule.\n",
        "\n",
        "U - Univariate Analysis,\n",
        "\n",
        "B - Bivariate Analysis (Numerical - Categorical, Numerical - Numerical, Categorical - Categorical)\n",
        "\n",
        "M - Multivariate Analysis\n",
        " ]\n",
        "\n",
        "\n",
        "\n"
      ],
      "metadata": {
        "id": "ZrxVaUj-hHfC"
      }
    },
    {
      "cell_type": "markdown",
      "source": [
        "# ***Let's Begin !***"
      ],
      "metadata": {
        "id": "O_i_v8NEhb9l"
      }
    },
    {
      "cell_type": "markdown",
      "source": [
        "## ***1. Know Your Data***"
      ],
      "metadata": {
        "id": "HhfV-JJviCcP"
      }
    },
    {
      "cell_type": "markdown",
      "source": [
        "### Import Libraries"
      ],
      "metadata": {
        "id": "Y3lxredqlCYt"
      }
    },
    {
      "cell_type": "code",
      "source": [
        "# import libraries\n",
        "import numpy as np\n",
        "import pandas as pd\n",
        "import seaborn as sns\n",
        "import matplotlib.pyplot as plt\n",
        "import warnings\n"
      ],
      "metadata": {
        "id": "M8Vqi-pPk-HR"
      },
      "execution_count": null,
      "outputs": []
    },
    {
      "cell_type": "markdown",
      "source": [
        "### Dataset Loading"
      ],
      "metadata": {
        "id": "3RnN4peoiCZX"
      }
    },
    {
      "cell_type": "code",
      "source": [
        "# Load Dataset\n",
        "from google.colab import drive\n",
        "drive.mount('/content/drive')"
      ],
      "metadata": {
        "id": "4CkvbW_SlZ_R"
      },
      "execution_count": null,
      "outputs": []
    },
    {
      "cell_type": "code",
      "source": [
        "data=pd.read_csv('/content/drive/MyDrive/datasets/Airbnb NYC 2019.csv')"
      ],
      "metadata": {
        "id": "Tmmg_eg37vFy"
      },
      "execution_count": null,
      "outputs": []
    },
    {
      "cell_type": "markdown",
      "source": [
        "### Dataset First View"
      ],
      "metadata": {
        "id": "x71ZqKXriCWQ"
      }
    },
    {
      "cell_type": "code",
      "source": [
        "# Dataset First Look\n",
        "data"
      ],
      "metadata": {
        "id": "LWNFOSvLl09H"
      },
      "execution_count": null,
      "outputs": []
    },
    {
      "cell_type": "markdown",
      "source": [
        "### Dataset Rows & Columns count"
      ],
      "metadata": {
        "id": "7hBIi_osiCS2"
      }
    },
    {
      "cell_type": "code",
      "source": [
        "# Dataset Rows & Columns count\n",
        "data.shape"
      ],
      "metadata": {
        "id": "Kllu7SJgmLij"
      },
      "execution_count": null,
      "outputs": []
    },
    {
      "cell_type": "markdown",
      "source": [
        "### Dataset Information"
      ],
      "metadata": {
        "id": "JlHwYmJAmNHm"
      }
    },
    {
      "cell_type": "code",
      "source": [
        "# Dataset Info\n",
        "data.head()"
      ],
      "metadata": {
        "id": "e9hRXRi6meOf"
      },
      "execution_count": null,
      "outputs": []
    },
    {
      "cell_type": "code",
      "source": [
        "data.tail()"
      ],
      "metadata": {
        "id": "Va-rH0ha8nLs"
      },
      "execution_count": null,
      "outputs": []
    },
    {
      "cell_type": "code",
      "source": [
        "data.info()"
      ],
      "metadata": {
        "id": "vFuhto8a8uYq"
      },
      "execution_count": null,
      "outputs": []
    },
    {
      "cell_type": "code",
      "source": [
        "cat_data=data.select_dtypes(include=['object'])\n",
        "cat_data\n"
      ],
      "metadata": {
        "id": "sCkfDJEi5dpi"
      },
      "execution_count": null,
      "outputs": []
    },
    {
      "cell_type": "markdown",
      "source": [
        "#### Duplicate Values"
      ],
      "metadata": {
        "id": "35m5QtbWiB9F"
      }
    },
    {
      "cell_type": "code",
      "source": [
        "# Dataset Duplicate Value Count\n",
        "data.duplicated().sum()"
      ],
      "metadata": {
        "id": "1sLdpKYkmox0"
      },
      "execution_count": null,
      "outputs": []
    },
    {
      "cell_type": "markdown",
      "source": [
        "#### Missing Values/Null Values"
      ],
      "metadata": {
        "id": "PoPl-ycgm1ru"
      }
    },
    {
      "cell_type": "code",
      "source": [
        "# Missing Values/Null Values Count\n",
        "data.isnull().sum()"
      ],
      "metadata": {
        "id": "GgHWkxvamxVg"
      },
      "execution_count": null,
      "outputs": []
    },
    {
      "cell_type": "code",
      "source": [
        "# Visualizing the missing values\n",
        "(data.isnull().sum()/len(data)*100).reset_index()"
      ],
      "metadata": {
        "id": "3q5wnI3om9sJ"
      },
      "execution_count": null,
      "outputs": []
    },
    {
      "cell_type": "code",
      "source": [
        "data"
      ],
      "metadata": {
        "id": "xqs3ifYpBdnu"
      },
      "execution_count": null,
      "outputs": []
    },
    {
      "cell_type": "code",
      "source": [
        "\n"
      ],
      "metadata": {
        "id": "4dmvocoLBdkX"
      },
      "execution_count": null,
      "outputs": []
    },
    {
      "cell_type": "code",
      "source": [
        "plt.figure(figsize=(5,3))\n",
        "sns.histplot(x=data['reviews_per_month'],kde=True)\n",
        "plt.show()\n"
      ],
      "metadata": {
        "id": "S2qUmY09ZnI9"
      },
      "execution_count": null,
      "outputs": []
    },
    {
      "cell_type": "code",
      "source": [
        "data['reviews_per_month'].skew()"
      ],
      "metadata": {
        "id": "BLw7UnAqZ5dZ"
      },
      "execution_count": null,
      "outputs": []
    },
    {
      "cell_type": "code",
      "source": [
        "data['reviews_per_month'] = data['reviews_per_month'].fillna(value=data['reviews_per_month'].median())\n"
      ],
      "metadata": {
        "id": "tYXMOgajaJWs"
      },
      "execution_count": null,
      "outputs": []
    },
    {
      "cell_type": "code",
      "source": [
        "missing_values_rows = data[data.isnull().any(axis=1)]\n",
        "print(missing_values_rows)"
      ],
      "metadata": {
        "id": "7ttXLN9CepWF"
      },
      "execution_count": null,
      "outputs": []
    },
    {
      "cell_type": "code",
      "source": [
        "data['name'] = data['name'].fillna(\"Unknown\")\n",
        "data['host_name'] = data['host_name'].fillna(\"Unknown\")\n",
        "data.isnull().sum()"
      ],
      "metadata": {
        "id": "VzjyfrYrepTP"
      },
      "execution_count": null,
      "outputs": []
    },
    {
      "cell_type": "markdown",
      "source": [
        "### What did you know about your dataset?"
      ],
      "metadata": {
        "id": "H0kj-8xxnORC"
      }
    },
    {
      "cell_type": "markdown",
      "source": [
        "\n",
        "Key Insights About the Dataset:\n",
        "\n",
        "1: General Overview:\n",
        "\n",
        "Contains 48,895 Airbnb listings in NYC with details about hosts, neighborhoods, room types, pricing, reviews, and availability.\n",
        "Structure:\n",
        "\n",
        "\n",
        "2: 16 columns: Includes both numerical (e.g., price, minimum_nights) and categorical (e.g., room_type, neighbourhood) data.\n",
        "Missing Data:\n",
        "\n",
        "\n",
        "3: last_review and reviews_per_month have ~20.56% missing values.\n",
        "Minimal missing values in name and host_name.\n",
        "Numerical Observations:\n",
        "\n",
        "\n",
        "4: Price: Highly variable, ranging from $0 to $10,000.\n",
        "Minimum Nights: Some extreme values (up to 1,250 nights).\n",
        "Reviews Per Month: Average of 1.37, but outliers go up to 58.5.\n",
        "Categorical Highlights:\n",
        "\n",
        "\n",
        "5: Five neighbourhood groups: Manhattan, Brooklyn, Queens, Bronx, and Staten Island.\n",
        "Popular room types: Entire home/apt, Private room, Shared room.\n",
        "\n",
        "6: Potential Challenges:\n",
        "\n",
        "Outliers in price and minimum_nights.\n",
        "Missing values in last_review and reviews_per_month."
      ],
      "metadata": {
        "id": "gfoNAAC-nUe_"
      }
    },
    {
      "cell_type": "markdown",
      "source": [
        "## ***2. Understanding Your Variables***"
      ],
      "metadata": {
        "id": "nA9Y7ga8ng1Z"
      }
    },
    {
      "cell_type": "code",
      "source": [
        "# Dataset Columns\n",
        "data.columns"
      ],
      "metadata": {
        "id": "j7xfkqrt5Ag5"
      },
      "execution_count": null,
      "outputs": []
    },
    {
      "cell_type": "code",
      "source": [
        "# Dataset Describe\n",
        "data.describe()"
      ],
      "metadata": {
        "id": "DnOaZdaE5Q5t"
      },
      "execution_count": null,
      "outputs": []
    },
    {
      "cell_type": "code",
      "source": [
        "data.describe(include='object')"
      ],
      "metadata": {
        "id": "c9W4Nu-t3fya"
      },
      "execution_count": null,
      "outputs": []
    },
    {
      "cell_type": "markdown",
      "source": [
        "### Variables Description"
      ],
      "metadata": {
        "id": "PBTbrJXOngz2"
      }
    },
    {
      "cell_type": "markdown",
      "source": [
        "Answer Here\n",
        "\n",
        "1. id: Unique identifier for each listing.\n",
        "2. name: Name of the listing.\n",
        "3. host_id: Unique identifier for each host.\n",
        "4. host_name: Name of the host.\n",
        "5. neighbourhood_group: Broad region in NYC (e.g., Manhattan, Brooklyn).\n",
        "6. neighbourhood: Specific area within the neighbourhood group.\n",
        "7. latitude: Latitude coordinate of the listing.\n",
        "8. longitude: Longitude coordinate of the listing.\n",
        "9. room_type: Type of accommodation (e.g., Entire home/apt, Private room).\n",
        "10. price: Price per night in USD.\n",
        "11. minimum_nights: Minimum number of nights required for booking.\n",
        "12. number_of_reviews: Total number of reviews for the listing.\n",
        "13. last_review: Date of the most recent review.\n",
        "14. reviews_per_month: Average number of reviews per month.\n",
        "15. calculated_host_listings_count: Number of active listings by the host.\n",
        "16. availability_365: Number of days the listing is available in a year.\n",
        "\n",
        "\n",
        "\n",
        "\n",
        "\n",
        "\n",
        "\n",
        "\n",
        "\n"
      ],
      "metadata": {
        "id": "aJV4KIxSnxay"
      }
    },
    {
      "cell_type": "markdown",
      "source": [
        "### Check Unique Values for each variable."
      ],
      "metadata": {
        "id": "u3PMJOP6ngxN"
      }
    },
    {
      "cell_type": "code",
      "source": [
        "data"
      ],
      "metadata": {
        "id": "PUHsoPRkxn18"
      },
      "execution_count": null,
      "outputs": []
    },
    {
      "cell_type": "code",
      "source": [
        "# Drop 'last_review' if it exists\n",
        "data = data.drop(columns=['last_review'], errors='ignore')\n"
      ],
      "metadata": {
        "id": "Ly_TH-sfpZvk"
      },
      "execution_count": null,
      "outputs": []
    },
    {
      "cell_type": "code",
      "source": [
        "data.columns"
      ],
      "metadata": {
        "id": "pYVyM4YQqJHi"
      },
      "execution_count": null,
      "outputs": []
    },
    {
      "cell_type": "code",
      "source": [
        "# Check Unique Values for each variable.\n",
        "for x in cat_data.columns:\n",
        "    if x == 'last_review':  # Skip 'last_review'\n",
        "        continue\n",
        "    print(x)\n",
        "    print(data[x].unique())\n",
        "    print(\"-------------------------------\")"
      ],
      "metadata": {
        "id": "zms12Yq5n-jE"
      },
      "execution_count": null,
      "outputs": []
    },
    {
      "cell_type": "markdown",
      "source": [
        "## 3. ***Data Wrangling***"
      ],
      "metadata": {
        "id": "dauF4eBmngu3"
      }
    },
    {
      "cell_type": "markdown",
      "source": [
        "### Data Wrangling Code"
      ],
      "metadata": {
        "id": "bKJF3rekwFvQ"
      }
    },
    {
      "cell_type": "code",
      "source": [
        "# Write your code to make your dataset analysis ready.\n",
        "def categorize_price(price):\n",
        "    if price < 50:\n",
        "        return \"Low\"\n",
        "    elif 50 <= price <= 150:\n",
        "        return \"Medium\"\n",
        "    else:\n",
        "        return \"High\"\n",
        "\n",
        "data['price_range'] = data['price'].apply(categorize_price)"
      ],
      "metadata": {
        "id": "wk-9a2fpoLcV"
      },
      "execution_count": null,
      "outputs": []
    },
    {
      "cell_type": "code",
      "source": [
        "def assign_popularity_tier(reviews):\n",
        "    if reviews > 50:\n",
        "        return \"Popular\"\n",
        "    elif 10 <= reviews <= 50:\n",
        "        return \"Average\"\n",
        "    else:\n",
        "        return \"Low\"\n",
        "\n",
        "data['popularity_tier'] = data['number_of_reviews'].apply(assign_popularity_tier)"
      ],
      "metadata": {
        "id": "GLFG1i2U6oOh"
      },
      "execution_count": null,
      "outputs": []
    },
    {
      "cell_type": "code",
      "source": [
        "def is_high_demand(row):\n",
        "    return row['availability_365'] > 300 and row['minimum_nights'] <= 3\n",
        "\n",
        "data['high_demand_flag'] = data.apply(is_high_demand, axis=1)"
      ],
      "metadata": {
        "id": "9nATO2F17FLy"
      },
      "execution_count": null,
      "outputs": []
    },
    {
      "cell_type": "markdown",
      "source": [
        "### What all manipulations have you done and insights you found?"
      ],
      "metadata": {
        "id": "MSa1f5Uengrz"
      }
    },
    {
      "cell_type": "markdown",
      "source": [
        "1. Handled Missing Values:\n",
        "\n",
        "* Filled name and host_name with \"Unknown\".\n",
        "\n",
        "* Replaced missing reviews_per_month with 0.\n",
        "\n",
        "2. Added New Columns:\n",
        "\n",
        "* Price Range: Categorized listings into Low, Medium, and High based on price.\n",
        "\n",
        "3. Planned Additional Features:\n",
        "\n",
        "* Popularity tiers based on the number of reviews.\n",
        "\n",
        "* High-demand flag based on availability and minimum nights."
      ],
      "metadata": {
        "id": "LbyXE7I1olp8"
      }
    },
    {
      "cell_type": "markdown",
      "source": [
        "## ***4. Data Vizualization, Storytelling & Experimenting with charts : Understand the relationships between variables***"
      ],
      "metadata": {
        "id": "GF8Ens_Soomf"
      }
    },
    {
      "cell_type": "markdown",
      "source": [
        "#### Chart - 1"
      ],
      "metadata": {
        "id": "0wOQAZs5pc--"
      }
    },
    {
      "cell_type": "code",
      "source": [
        "# Chart - 1 visualization code\n",
        "plt.figure(figsize=(5,3))\n",
        "sns.countplot(data=data, x='neighbourhood_group', palette='viridis')\n",
        "plt.title('Distribution of Listings by Neighbourhood Group')\n",
        "plt.show()\n"
      ],
      "metadata": {
        "id": "7v_ESjsspbW7"
      },
      "execution_count": null,
      "outputs": []
    },
    {
      "cell_type": "markdown",
      "source": [
        "##### 1. Why did you pick the specific chart?"
      ],
      "metadata": {
        "id": "K5QZ13OEpz2H"
      }
    },
    {
      "cell_type": "markdown",
      "source": [
        "1. Understand Regional Concentration:\n",
        "\n",
        "The neighbourhood group is a key categorical variable. Chart 1 helps us visualize how listings are distributed across the five groups (Bronx, Brooklyn, Manhattan, Queens, and Staten Island).\n",
        "This sets the stage for understanding regional trends and highlights areas with higher or lower Airbnb activity.\n",
        "\n",
        "2. Business Relevance:\n",
        "\n",
        "Identifying areas with the most listings helps businesses and stakeholders focus on regions with significant market activity.\n",
        "\n",
        "3. Storytelling Potential:\n",
        "\n",
        "The chart visually communicates regional dominance or scarcity in listings, making it easier to convey this aspect in a presentation or report.\n",
        "\n",
        "4. Exploration Basis:\n",
        "\n",
        "This foundational insight guides subsequent analyses, such as comparing pricing, availability, or reviews within and across these neighbourhood groups"
      ],
      "metadata": {
        "id": "XESiWehPqBRc"
      }
    },
    {
      "cell_type": "markdown",
      "source": [
        "##### 2. What is/are the insight(s) found from the chart?"
      ],
      "metadata": {
        "id": "lQ7QKXXCp7Bj"
      }
    },
    {
      "cell_type": "markdown",
      "source": [
        " Understand which neighbourhood group has the highest concentration of listings."
      ],
      "metadata": {
        "id": "C_j1G7yiqdRP"
      }
    },
    {
      "cell_type": "markdown",
      "source": [
        "##### 3. Will the gained insights help creating a positive business impact?\n",
        "Are there any insights that lead to negative growth? Justify with specific reason."
      ],
      "metadata": {
        "id": "448CDAPjqfQr"
      }
    },
    {
      "cell_type": "markdown",
      "source": [
        "Yes, the insights gained from  distribution of listings by neighbourhood group can directly contribute to a positive business impact, especially in terms of market strategy, resource allocation, and regional planning."
      ],
      "metadata": {
        "id": "3cspy4FjqxJW"
      }
    },
    {
      "cell_type": "markdown",
      "source": [
        "#### Chart - 2"
      ],
      "metadata": {
        "id": "KSlN3yHqYklG"
      }
    },
    {
      "cell_type": "code",
      "source": [
        "# Chart - 2 visualization code\n",
        "data.groupby('neighbourhood_group')['price'].mean().plot(kind='bar', color='skyblue')\n",
        "plt.title('Average Price by Neighbourhood Group')\n",
        "plt.show()\n",
        "plt.figure(figsize=(2,3))"
      ],
      "metadata": {
        "id": "R4YgtaqtYklH"
      },
      "execution_count": null,
      "outputs": []
    },
    {
      "cell_type": "markdown",
      "source": [
        "##### 1. Why did you pick the specific chart?"
      ],
      "metadata": {
        "id": "t6dVpIINYklI"
      }
    },
    {
      "cell_type": "markdown",
      "source": [
        "Helps understand the pricing landscape across different regions."
      ],
      "metadata": {
        "id": "5aaW0BYyYklI"
      }
    },
    {
      "cell_type": "markdown",
      "source": [
        "##### 2. What is/are the insight(s) found from the chart?"
      ],
      "metadata": {
        "id": "ijmpgYnKYklI"
      }
    },
    {
      "cell_type": "markdown",
      "source": [
        "Compare average pricing across neighbourhood groups."
      ],
      "metadata": {
        "id": "PSx9atu2YklI"
      }
    },
    {
      "cell_type": "markdown",
      "source": [
        "##### 3. Will the gained insights help creating a positive business impact?\n",
        "Are there any insights that lead to negative growth? Justify with specific reason."
      ],
      "metadata": {
        "id": "-JiQyfWJYklI"
      }
    },
    {
      "cell_type": "markdown",
      "source": [
        "Negative Insight:\n",
        "\n",
        "* Extremely high prices in premium areas may deter budget-conscious travelers, pushing them to competitors like hotels or other platforms.\n",
        "\n",
        "* Consistently low prices in certain areas might indicate a lack of perceived value or poor market positioning."
      ],
      "metadata": {
        "id": "BcBbebzrYklV"
      }
    },
    {
      "cell_type": "markdown",
      "source": [
        "#### Chart - 3"
      ],
      "metadata": {
        "id": "EM7whBJCYoAo"
      }
    },
    {
      "cell_type": "code",
      "source": [
        "# Chart - 3 visualization code\n",
        "data['room_type'].value_counts().plot(kind='pie', autopct='%1.1f%%', colors=['lightblue', 'orange', 'lightgreen'])\n",
        "plt.title('Room Type Distribution')\n",
        "plt.show()\n",
        "plt.figure(figsize=(3,3))\n"
      ],
      "metadata": {
        "id": "t6GMdE67YoAp"
      },
      "execution_count": null,
      "outputs": []
    },
    {
      "cell_type": "markdown",
      "source": [
        "##### 1. Why did you pick the specific chart?"
      ],
      "metadata": {
        "id": "fge-S5ZAYoAp"
      }
    },
    {
      "cell_type": "markdown",
      "source": [
        "Shows the proportion of room types available (Entire home, Private room, Shared room).\n",
        "Helps assess host preferences and customer demands."
      ],
      "metadata": {
        "id": "5dBItgRVYoAp"
      }
    },
    {
      "cell_type": "markdown",
      "source": [
        "##### 2. What is/are the insight(s) found from the chart?"
      ],
      "metadata": {
        "id": "85gYPyotYoAp"
      }
    },
    {
      "cell_type": "markdown",
      "source": [
        " Show the proportion of different room types."
      ],
      "metadata": {
        "id": "4jstXR6OYoAp"
      }
    },
    {
      "cell_type": "markdown",
      "source": [
        "##### 3. Will the gained insights help creating a positive business impact?\n",
        "Are there any insights that lead to negative growth? Justify with specific reason."
      ],
      "metadata": {
        "id": "RoGjAbkUYoAp"
      }
    },
    {
      "cell_type": "markdown",
      "source": [
        "Positive impact:\n",
        "\n",
        "* If \"Entire home/apartment\" dominates, businesses can develop services tailored for vacation rentals.\n",
        "* A higher proportion of \"Private rooms\" might indicate demand for short stays or budget-friendly options."
      ],
      "metadata": {
        "id": "zfJ8IqMcYoAp"
      }
    },
    {
      "cell_type": "markdown",
      "source": [
        "#### Chart - 4"
      ],
      "metadata": {
        "id": "4Of9eVA-YrdM"
      }
    },
    {
      "cell_type": "code",
      "source": [
        "# Chart - 4 visualization code\n",
        "plt.figure(figsize=(5,3))\n",
        "sns.scatterplot(data=data, x='price', y='number_of_reviews', alpha=0.5)\n",
        "plt.title('Price vs. Number of Reviews')\n",
        "plt.show()\n"
      ],
      "metadata": {
        "id": "irlUoxc8YrdO"
      },
      "execution_count": null,
      "outputs": []
    },
    {
      "cell_type": "markdown",
      "source": [
        "##### 1. Why did you pick the specific chart?"
      ],
      "metadata": {
        "id": "iky9q4vBYrdO"
      }
    },
    {
      "cell_type": "markdown",
      "source": [
        "To explore the relationship between pricing and customer engagement (reviews)."
      ],
      "metadata": {
        "id": "aJRCwT6DYrdO"
      }
    },
    {
      "cell_type": "markdown",
      "source": [
        "##### 2. What is/are the insight(s) found from the chart?"
      ],
      "metadata": {
        "id": "F6T5p64dYrdO"
      }
    },
    {
      "cell_type": "markdown",
      "source": [
        "Explore the relationship between price and popularity."
      ],
      "metadata": {
        "id": "Xx8WAJvtYrdO"
      }
    },
    {
      "cell_type": "markdown",
      "source": [
        "##### 3. Will the gained insights help creating a positive business impact?\n",
        "Are there any insights that lead to negative growth? Justify with specific reason."
      ],
      "metadata": {
        "id": "y-Ehk30pYrdP"
      }
    },
    {
      "cell_type": "markdown",
      "source": [
        "Answer Here\n",
        "\n",
        "Positive impact:\n",
        "\n",
        "* Detect whether lower prices correlate with more reviews, suggesting pricing as a key driver of demand.\n",
        "* Identify high-priced listings with many reviews, indicating premium experiences in demand.\n",
        "\n"
      ],
      "metadata": {
        "id": "jLNxxz7MYrdP"
      }
    },
    {
      "cell_type": "markdown",
      "source": [
        "#### Chart - 5"
      ],
      "metadata": {
        "id": "bamQiAODYuh1"
      }
    },
    {
      "cell_type": "code",
      "source": [
        "# Chart - 5 visualization code\n",
        "plt.figure(figsize=(5,3))\n",
        "sns.countplot(data=data, x='neighbourhood_group', hue='room_type', palette='coolwarm')\n",
        "plt.title('Room Type Popularity by Neighbourhood Group')\n",
        "plt.show()\n"
      ],
      "metadata": {
        "id": "TIJwrbroYuh3"
      },
      "execution_count": null,
      "outputs": []
    },
    {
      "cell_type": "markdown",
      "source": [
        "##### 1. Why did you pick the specific chart?"
      ],
      "metadata": {
        "id": "QHF8YVU7Yuh3"
      }
    },
    {
      "cell_type": "markdown",
      "source": [
        "To compare room type preferences across different regions."
      ],
      "metadata": {
        "id": "dcxuIMRPYuh3"
      }
    },
    {
      "cell_type": "markdown",
      "source": [
        "##### 2. What is/are the insight(s) found from the chart?"
      ],
      "metadata": {
        "id": "GwzvFGzlYuh3"
      }
    },
    {
      "cell_type": "markdown",
      "source": [
        "Compare room type preferences across neighbourhood groups."
      ],
      "metadata": {
        "id": "uyqkiB8YYuh3"
      }
    },
    {
      "cell_type": "markdown",
      "source": [
        "##### 3. Will the gained insights help creating a positive business impact?\n",
        "Are there any insights that lead to negative growth? Justify with specific reason."
      ],
      "metadata": {
        "id": "qYpmQ266Yuh3"
      }
    },
    {
      "cell_type": "markdown",
      "source": [
        "Positive impact:\n",
        "\n",
        "* Align room-type-specific marketing campaigns with neighborhood trends (e.g., promote private rooms in Brooklyn).\n",
        "* Identify mismatches where demand doesn’t align with room types offered.\n",
        "\n",
        "Negative impact:\n",
        "\n",
        "\n",
        "* Imbalanced room-type distribution (e.g., many private rooms in tourist-heavy neighborhoods) may not align with guest preferences, leading to missed bookings.\n",
        "* Low demand for certain room types might discourage hosts from listing those, shrinking diversity in offerings.\n"
      ],
      "metadata": {
        "id": "_WtzZ_hCYuh4"
      }
    },
    {
      "cell_type": "markdown",
      "source": [
        "#### Chart - 6"
      ],
      "metadata": {
        "id": "OH-pJp9IphqM"
      }
    },
    {
      "cell_type": "code",
      "source": [
        "# Chart - 6 visualization code\n",
        "plt.figure(figsize=(5,3))\n",
        "sns.boxplot(data=data, x='neighbourhood_group', y='availability_365', palette='Set3')\n",
        "plt.title('Availability of Listings by Neighbourhood Group')\n",
        "plt.show()\n"
      ],
      "metadata": {
        "id": "kuRf4wtuphqN"
      },
      "execution_count": null,
      "outputs": []
    },
    {
      "cell_type": "markdown",
      "source": [
        "##### 1. Why did you pick the specific chart?"
      ],
      "metadata": {
        "id": "bbFf2-_FphqN"
      }
    },
    {
      "cell_type": "markdown",
      "source": [
        "To understand how often listings are available across different regions."
      ],
      "metadata": {
        "id": "loh7H2nzphqN"
      }
    },
    {
      "cell_type": "markdown",
      "source": [
        "##### 2. What is/are the insight(s) found from the chart?"
      ],
      "metadata": {
        "id": "_ouA3fa0phqN"
      }
    },
    {
      "cell_type": "markdown",
      "source": [
        " Understand which areas have more available listings."
      ],
      "metadata": {
        "id": "VECbqPI7phqN"
      }
    },
    {
      "cell_type": "markdown",
      "source": [
        "##### 3. Will the gained insights help creating a positive business impact?\n",
        "Are there any insights that lead to negative growth? Justify with specific reason."
      ],
      "metadata": {
        "id": "Seke61FWphqN"
      }
    },
    {
      "cell_type": "markdown",
      "source": [
        "Positive impact:\n",
        "\n",
        "* High availability in a region indicates strong host engagement.\n",
        "* Low availability suggests seasonal demand or limited host participation, signaling where to focus efforts.\n",
        "\n",
        "Negative impact:\n",
        "\n",
        "* Low availability in high-demand areas might suggest missed revenue opportunities due to inactive hosts or limited supply.\n",
        "* Extremely high availability for some listings may indicate low occupancy rates, reducing profitability for those hosts."
      ],
      "metadata": {
        "id": "DW4_bGpfphqN"
      }
    },
    {
      "cell_type": "markdown",
      "source": [
        "#### Chart - 7"
      ],
      "metadata": {
        "id": "PIIx-8_IphqN"
      }
    },
    {
      "cell_type": "code",
      "source": [
        "# Chart - 7 visualization code\n",
        "plt.figure(figsize=(5,3))\n",
        "sns.violinplot(data=data, x='neighbourhood_group', y='minimum_nights', scale='width', palette='muted')\n",
        "plt.title('Distribution of Minimum Nights by Neighbourhood Group')\n",
        "plt.xlabel('Neighbourhood Group')\n",
        "plt.ylabel('Minimum Nights')\n",
        "plt.yscale('log')\n",
        "plt.show()\n"
      ],
      "metadata": {
        "id": "lqAIGUfyphqO"
      },
      "execution_count": null,
      "outputs": []
    },
    {
      "cell_type": "markdown",
      "source": [
        "##### 1. Why did you pick the specific chart?"
      ],
      "metadata": {
        "id": "t27r6nlMphqO"
      }
    },
    {
      "cell_type": "markdown",
      "source": [
        "To analyze flexibility in stay requirements across neighborhoods."
      ],
      "metadata": {
        "id": "iv6ro40sphqO"
      }
    },
    {
      "cell_type": "markdown",
      "source": [
        "##### 2. What is/are the insight(s) found from the chart?"
      ],
      "metadata": {
        "id": "r2jJGEOYphqO"
      }
    },
    {
      "cell_type": "markdown",
      "source": [
        " Analyze the variation in minimum stay requirements."
      ],
      "metadata": {
        "id": "Po6ZPi4hphqO"
      }
    },
    {
      "cell_type": "markdown",
      "source": [
        "##### 3. Will the gained insights help creating a positive business impact?\n",
        "Are there any insights that lead to negative growth? Justify with specific reason."
      ],
      "metadata": {
        "id": "b0JNsNcRphqO"
      }
    },
    {
      "cell_type": "markdown",
      "source": [
        "Positive impact:\n",
        "\n",
        "*  Regions with shorter minimum nights may attract tourists looking for weekend trips.\n",
        "* Areas with high minimum nights can target long-term stays or digital nomads.\n",
        "\n",
        "Negative impact:\n",
        "\n",
        "* High minimum night requirements in certain areas might alienate short-term travelers, causing them to switch to competitors.\n",
        "* Inflexible policies could reduce booking frequency and impact overall revenue."
      ],
      "metadata": {
        "id": "xvSq8iUTphqO"
      }
    },
    {
      "cell_type": "markdown",
      "source": [
        "#### Chart - 8"
      ],
      "metadata": {
        "id": "BZR9WyysphqO"
      }
    },
    {
      "cell_type": "code",
      "source": [
        "# Chart - 8 visualization code\n",
        "plt.figure(figsize=(5,3))\n",
        "sns.countplot(data=data, x='price_range', palette='Set2')\n",
        "plt.title('Price Range Distribution')\n",
        "plt.xlabel('Price Range')\n",
        "plt.ylabel('Count')\n",
        "plt.show()\n"
      ],
      "metadata": {
        "id": "TdPTWpAVphqO"
      },
      "execution_count": null,
      "outputs": []
    },
    {
      "cell_type": "markdown",
      "source": [
        "##### 1. Why did you pick the specific chart?"
      ],
      "metadata": {
        "id": "jj7wYXLtphqO"
      }
    },
    {
      "cell_type": "markdown",
      "source": [
        "Segments listings into price categories for easier analysis."
      ],
      "metadata": {
        "id": "Ob8u6rCTphqO"
      }
    },
    {
      "cell_type": "markdown",
      "source": [
        "##### 2. What is/are the insight(s) found from the chart?"
      ],
      "metadata": {
        "id": "eZrbJ2SmphqO"
      }
    },
    {
      "cell_type": "markdown",
      "source": [
        "Show the distribution of listings across different price categories."
      ],
      "metadata": {
        "id": "mZtgC_hjphqO"
      }
    },
    {
      "cell_type": "markdown",
      "source": [
        "##### 3. Will the gained insights help creating a positive business impact?\n",
        "Are there any insights that lead to negative growth? Justify with specific reason."
      ],
      "metadata": {
        "id": "rFu4xreNphqO"
      }
    },
    {
      "cell_type": "markdown",
      "source": [
        "Positive impact:\n",
        "\n",
        "* Helps businesses understand what price points dominate the market and align services accordingly.\n",
        "* Identify opportunities for filling gaps in specific price categories (e.g., luxury or budget-friendly)."
      ],
      "metadata": {
        "id": "ey_0qi68phqO"
      }
    },
    {
      "cell_type": "markdown",
      "source": [
        "#### Chart - 9"
      ],
      "metadata": {
        "id": "YJ55k-q6phqO"
      }
    },
    {
      "cell_type": "code",
      "source": [
        "# Chart - 9 visualization code\n",
        "plt.figure(figsize=(8, 8))\n",
        "sns.scatterplot(data=data, x='longitude', y='latitude', hue='neighbourhood_group', alpha=0.6)\n",
        "plt.title('Geographical Distribution of Listings')\n",
        "plt.xlabel('Longitude')\n",
        "plt.ylabel('Latitude')\n",
        "plt.legend(title='Neighbourhood Group')\n",
        "plt.show()"
      ],
      "metadata": {
        "id": "B2aS4O1ophqO"
      },
      "execution_count": null,
      "outputs": []
    },
    {
      "cell_type": "markdown",
      "source": [
        "##### 1. Why did you pick the specific chart?"
      ],
      "metadata": {
        "id": "gCFgpxoyphqP"
      }
    },
    {
      "cell_type": "markdown",
      "source": [
        "Provides a spatial overview of listing density across the city."
      ],
      "metadata": {
        "id": "TVxDimi2phqP"
      }
    },
    {
      "cell_type": "markdown",
      "source": [
        "##### 2. What is/are the insight(s) found from the chart?"
      ],
      "metadata": {
        "id": "OVtJsKN_phqQ"
      }
    },
    {
      "cell_type": "markdown",
      "source": [
        " Identify clusters of listings geographically."
      ],
      "metadata": {
        "id": "ngGi97qjphqQ"
      }
    },
    {
      "cell_type": "markdown",
      "source": [
        "##### 3. Will the gained insights help creating a positive business impact?\n",
        "Are there any insights that lead to negative growth? Justify with specific reason."
      ],
      "metadata": {
        "id": "lssrdh5qphqQ"
      }
    },
    {
      "cell_type": "markdown",
      "source": [
        "Positive impact:\n",
        "\n",
        "* Identifies areas of high demand (clusters) for prioritizing resources like cleaning services or customer support.\n",
        "* Highlights underserved areas with potential for growth"
      ],
      "metadata": {
        "id": "tBpY5ekJphqQ"
      }
    },
    {
      "cell_type": "markdown",
      "source": [
        "#### Chart - 10"
      ],
      "metadata": {
        "id": "U2RJ9gkRphqQ"
      }
    },
    {
      "cell_type": "code",
      "source": [
        "# Chart - 10 visualization code\n",
        "plt.figure(figsize=(5,3))\n",
        "sns.countplot(data=data, x='neighbourhood_group', hue='high_demand_flag', palette='cool')\n",
        "plt.title('High Demand Listings by Neighbourhood Group')\n",
        "plt.xlabel('Neighbourhood Group')\n",
        "plt.ylabel('Count')\n",
        "plt.legend(title='High Demand')\n",
        "plt.show()\n"
      ],
      "metadata": {
        "id": "GM7a4YP4phqQ"
      },
      "execution_count": null,
      "outputs": []
    },
    {
      "cell_type": "markdown",
      "source": [
        "##### 1. Why did you pick the specific chart?"
      ],
      "metadata": {
        "id": "1M8mcRywphqQ"
      }
    },
    {
      "cell_type": "markdown",
      "source": [
        "To compare the distribution of high-demand listings across regions."
      ],
      "metadata": {
        "id": "8agQvks0phqQ"
      }
    },
    {
      "cell_type": "markdown",
      "source": [
        "##### 2. What is/are the insight(s) found from the chart?"
      ],
      "metadata": {
        "id": "tgIPom80phqQ"
      }
    },
    {
      "cell_type": "markdown",
      "source": [
        "Visualize the proportion of high-demand listings."
      ],
      "metadata": {
        "id": "Qp13pnNzphqQ"
      }
    },
    {
      "cell_type": "markdown",
      "source": [
        "##### 3. Will the gained insights help creating a positive business impact?\n",
        "Are there any insights that lead to negative growth? Justify with specific reason."
      ],
      "metadata": {
        "id": "JMzcOPDDphqR"
      }
    },
    {
      "cell_type": "markdown",
      "source": [
        "Positive impact:\n",
        "\n",
        "* Helps identify regions where listings consistently meet customer expectations, guiding service enhancements.\n",
        "* Regions with fewer high-demand listings need better marketing or service improvements."
      ],
      "metadata": {
        "id": "R4Ka1PC2phqR"
      }
    },
    {
      "cell_type": "markdown",
      "source": [
        "#### Chart - 11"
      ],
      "metadata": {
        "id": "x-EpHcCOp1ci"
      }
    },
    {
      "cell_type": "code",
      "source": [
        "# Chart - 11 visualization code\n",
        "plt.figure(figsize=(5,3))\n",
        "sns.scatterplot(data=data, x='availability_365', y='price', alpha=0.5)\n",
        "plt.title('Availability vs. Price')\n",
        "plt.xlabel('Availability (Days)')\n",
        "plt.ylabel('Price')\n",
        "plt.show()\n"
      ],
      "metadata": {
        "id": "mAQTIvtqp1cj"
      },
      "execution_count": null,
      "outputs": []
    },
    {
      "cell_type": "markdown",
      "source": [
        "##### 1. Why did you pick the specific chart?"
      ],
      "metadata": {
        "id": "X_VqEhTip1ck"
      }
    },
    {
      "cell_type": "markdown",
      "source": [
        "Explores the relationship between listing price and its availability throughout the year."
      ],
      "metadata": {
        "id": "-vsMzt_np1ck"
      }
    },
    {
      "cell_type": "markdown",
      "source": [
        "##### 2. What is/are the insight(s) found from the chart?"
      ],
      "metadata": {
        "id": "8zGJKyg5p1ck"
      }
    },
    {
      "cell_type": "markdown",
      "source": [
        "Determine how availability impacts pricing."
      ],
      "metadata": {
        "id": "ZYdMsrqVp1ck"
      }
    },
    {
      "cell_type": "markdown",
      "source": [
        "##### 3. Will the gained insights help creating a positive business impact?\n",
        "Are there any insights that lead to negative growth? Justify with specific reason."
      ],
      "metadata": {
        "id": "PVzmfK_Ep1ck"
      }
    },
    {
      "cell_type": "markdown",
      "source": [
        "Positive impact:\n",
        "\n",
        "* High availability for low-priced listings may indicate over-saturation, calling for pricing strategies.\n",
        "* Limited availability for high-priced listings suggests premium offerings that can be expanded.\n",
        "\n",
        "Negative impact:\n",
        "\n",
        "* High availability at low prices might indicate that hosts are undervaluing their properties or that demand is too low, leading to reduced profitability.\n",
        "* Low availability at high prices may suggest a perception of overpricing, deterring potential bookings."
      ],
      "metadata": {
        "id": "druuKYZpp1ck"
      }
    },
    {
      "cell_type": "markdown",
      "source": [
        "#### Chart - 12"
      ],
      "metadata": {
        "id": "n3dbpmDWp1ck"
      }
    },
    {
      "cell_type": "code",
      "source": [
        "# Chart - 12 visualization code\n",
        "plt.figure(figsize=(5,3))\n",
        "data['popularity_tier'].value_counts().plot(kind='bar', color='green', edgecolor='black')\n",
        "plt.title('Popularity Tier Distribution')\n",
        "plt.xlabel('Tier')\n",
        "plt.ylabel('Count')\n",
        "plt.show()\n"
      ],
      "metadata": {
        "id": "bwevp1tKp1ck"
      },
      "execution_count": null,
      "outputs": []
    },
    {
      "cell_type": "markdown",
      "source": [
        "##### 1. Why did you pick the specific chart?"
      ],
      "metadata": {
        "id": "ylSl6qgtp1ck"
      }
    },
    {
      "cell_type": "markdown",
      "source": [
        "Highlights the popularity tiers of listings, segmented by their reviews"
      ],
      "metadata": {
        "id": "m2xqNkiQp1ck"
      }
    },
    {
      "cell_type": "markdown",
      "source": [
        "##### 2. What is/are the insight(s) found from the chart?"
      ],
      "metadata": {
        "id": "ZWILFDl5p1ck"
      }
    },
    {
      "cell_type": "markdown",
      "source": [
        "Display how listings are distributed across popularity tiers.\n"
      ],
      "metadata": {
        "id": "x-lUsV2mp1ck"
      }
    },
    {
      "cell_type": "markdown",
      "source": [
        "##### 3. Will the gained insights help creating a positive business impact?\n",
        "Are there any insights that lead to negative growth? Justify with specific reason."
      ],
      "metadata": {
        "id": "M7G43BXep1ck"
      }
    },
    {
      "cell_type": "markdown",
      "source": [
        "Positive impact:\n",
        "\n",
        "High popularity tiers suggest areas or hosts excelling in customer satisfaction, worth replicating in other areas.\n",
        "Lower tiers indicate opportunities for improving service quality or guest experiences."
      ],
      "metadata": {
        "id": "5wwDJXsLp1cl"
      }
    },
    {
      "cell_type": "markdown",
      "source": [
        "#### Chart - 13"
      ],
      "metadata": {
        "id": "Ag9LCva-p1cl"
      }
    },
    {
      "cell_type": "code",
      "source": [
        "# Chart - 13 visualization code\n",
        "plt.figure(figsize=(5,3))\n",
        "data['revenue_potential'] = data['price'] * data['availability_365']\n",
        "data.groupby('neighbourhood_group')['revenue_potential'].sum().plot(kind='bar', color='coral')\n",
        "plt.title('Revenue Potential by Neighbourhood Group')\n",
        "plt.xlabel('Neighbourhood Group')\n",
        "plt.ylabel('Total Revenue Potential')\n",
        "plt.show()\n"
      ],
      "metadata": {
        "id": "EUfxeq9-p1cl"
      },
      "execution_count": null,
      "outputs": []
    },
    {
      "cell_type": "markdown",
      "source": [
        "##### 1. Why did you pick the specific chart?"
      ],
      "metadata": {
        "id": "E6MkPsBcp1cl"
      }
    },
    {
      "cell_type": "markdown",
      "source": [
        "Calculates potential revenue based on price and availabilit"
      ],
      "metadata": {
        "id": "V22bRsFWp1cl"
      }
    },
    {
      "cell_type": "markdown",
      "source": [
        "##### 2. What is/are the insight(s) found from the chart?"
      ],
      "metadata": {
        "id": "2cELzS2fp1cl"
      }
    },
    {
      "cell_type": "markdown",
      "source": [
        "Estimate revenue potential for different neighbourhood groups"
      ],
      "metadata": {
        "id": "ozQPc2_Ip1cl"
      }
    },
    {
      "cell_type": "markdown",
      "source": [
        "##### 3. Will the gained insights help creating a positive business impact?\n",
        "Are there any insights that lead to negative growth? Justify with specific reason."
      ],
      "metadata": {
        "id": "3MPXvC8up1cl"
      }
    },
    {
      "cell_type": "markdown",
      "source": [
        "Positive inmpact:\n",
        "\n",
        "* High-revenue neighborhoods may warrant additional investments or host incentives.\n",
        "* Low-revenue areas highlight where to focus on increasing occupancy or pricing optimization."
      ],
      "metadata": {
        "id": "GL8l1tdLp1cl"
      }
    },
    {
      "cell_type": "markdown",
      "source": [
        "#### Chart - 14 - Correlation Heatmap"
      ],
      "metadata": {
        "id": "NC_X3p0fY2L0"
      }
    },
    {
      "cell_type": "code",
      "source": [
        "# Correlation Heatmap visualization code\n",
        "# Select numeric columns for correlation analysis\n",
        "numeric_cols = data.select_dtypes(include=['float64', 'int64']).columns\n",
        "\n",
        "correlation_matrix = data[numeric_cols].corr()\n",
        "\n",
        "plt.figure(figsize=(6, 5))\n",
        "sns.heatmap(correlation_matrix, annot=True, fmt=\".2f\", cmap=\"viridis\", cbar=True)\n",
        "plt.title(\"Correlation Heatmap\", fontsize=16)\n",
        "plt.show()\n"
      ],
      "metadata": {
        "id": "xyC9zolEZNRQ"
      },
      "execution_count": null,
      "outputs": []
    },
    {
      "cell_type": "markdown",
      "source": [
        "##### 1. Why did you pick the specific chart?"
      ],
      "metadata": {
        "id": "UV0SzAkaZNRQ"
      }
    },
    {
      "cell_type": "markdown",
      "source": [
        "* Identify relationship between variables\n",
        "* Feature engineering insights\n",
        "* Business strategy optimisation\n",
        "* Data driven storytelling\n",
        "\n"
      ],
      "metadata": {
        "id": "DVPuT8LYZNRQ"
      }
    },
    {
      "cell_type": "markdown",
      "source": [
        "##### 2. What is/are the insight(s) found from the chart?"
      ],
      "metadata": {
        "id": "YPEH6qLeZNRQ"
      }
    },
    {
      "cell_type": "markdown",
      "source": [
        "* Strong correlations between number_of_reviews and reviews_per_month highlight that customer satisfaction drives continuous engagement.\n",
        "* Price-related correlations are generally weak, suggesting that pricing is not the sole driver of demand, and other factors (e.g., location, quality, amenities) play a role."
      ],
      "metadata": {
        "id": "bfSqtnDqZNRR"
      }
    },
    {
      "cell_type": "markdown",
      "source": [
        "#### Chart - 15 - Pair Plot"
      ],
      "metadata": {
        "id": "q29F0dvdveiT"
      }
    },
    {
      "cell_type": "code",
      "source": [
        "# Pair Plot visualization code\n",
        "subset_cols = ['price', 'minimum_nights', 'number_of_reviews', 'reviews_per_month', 'availability_365']\n",
        "\n",
        "sns.pairplot(data[subset_cols], diag_kind=\"kde\", plot_kws={'alpha': 0.6})\n",
        "plt.suptitle(\"Pair Plot of Selected Variables\", y=1.02, fontsize=16)\n",
        "plt.show()\n"
      ],
      "metadata": {
        "id": "o58-TEIhveiU"
      },
      "execution_count": null,
      "outputs": []
    },
    {
      "cell_type": "markdown",
      "source": [
        "##### 1. Why did you pick the specific chart?"
      ],
      "metadata": {
        "id": "EXh0U9oCveiU"
      }
    },
    {
      "cell_type": "markdown",
      "source": [
        "* The pair plot allows us to visually examine how numerical variables (e.g., price, availability_365, reviews_per_month) interact with each other.\n",
        "* Outliers, such as listings with extremely high prices or unusually low availability, can be easily identified for further investigation.\n",
        "* It provides a compelling narrative about the behavior of listings, guest preferences, and host strategies."
      ],
      "metadata": {
        "id": "eMmPjTByveiU"
      }
    },
    {
      "cell_type": "markdown",
      "source": [
        "##### 2. What is/are the insight(s) found from the chart?"
      ],
      "metadata": {
        "id": "22aHeOlLveiV"
      }
    },
    {
      "cell_type": "markdown",
      "source": [
        "* Listings with higher prices tend to have fewer reviews\n",
        "* High availability is often observed for low-to-mid-priced listings\n",
        "* Listings with higher availability tend to receive more consistent monthly reviews.\n",
        "* Budget listings receive more reviews per month\n",
        "* Listings with high minimum night requirements tend to have lower availability.\n",
        "* A strong positive correlation exists, where listings with a high total number of reviews also have more monthly reviews.\n",
        "* Outliers, such as listings with extremely high prices and low reviews, are also visible"
      ],
      "metadata": {
        "id": "uPQ8RGwHveiV"
      }
    },
    {
      "cell_type": "markdown",
      "source": [
        "## **5. Solution to Business Objective**"
      ],
      "metadata": {
        "id": "JcMwzZxoAimU"
      }
    },
    {
      "cell_type": "markdown",
      "source": [
        "#### What do you suggest the client to achieve Business Objective ?\n",
        "Explain Briefly."
      ],
      "metadata": {
        "id": "8G2x9gOozGDZ"
      }
    },
    {
      "cell_type": "markdown",
      "source": [
        "1. Dynamic Pricing Strategies\n",
        "\n",
        "Insights Used:\n",
        "\n",
        "Listings with lower prices tend to have more reviews and higher availability. However, premium-priced listings have fewer reviews but cater to niche markets.\n",
        "\n",
        "Recommendation:\n",
        "\n",
        "Implement dynamic pricing models that adjust prices based on seasonality, location, and demand.\n",
        "Offer competitive pricing for budget-conscious travelers while maintaining higher pricing for premium listings in high-demand areas like Manhattan.\n",
        "\n",
        "2. Optimize Minimum Night Policies\n",
        "\n",
        "Insights Used:\n",
        "Listings with higher minimum nights often have lower availability and fewer reviews.\n",
        "\n",
        "Recommendation:\n",
        "\n",
        "Encourage hosts to lower minimum night requirements to attract short-term travelers, who are a significant segment of the market.\n",
        "Highlight the potential revenue increase from higher occupancy due to shorter stays.\n",
        "\n",
        "3. Enhance Location-Based Strategies\n",
        "\n",
        "Insights Used:\n",
        "Manhattan listings have the highest prices, while Staten Island listings are budget-friendly. Demand varies by borough.\n",
        "\n",
        "Recommendation:\n",
        "\n",
        "Focus marketing efforts on budget-conscious travelers for areas like Staten Island and Bronx.\n",
        "Promote high-end experiences for premium locations such as Manhattan.\n",
        "Use location-specific amenities or events to attract guests.\n",
        "\n",
        "4. Improve Host Engagement\n",
        "\n",
        "Insights Used:\n",
        "Listings with higher reviews per month and overall reviews indicate active, well-maintained properties.\n",
        "\n",
        "Recommendation:\n",
        "\n",
        "Educate hosts about the importance of prompt responses, frequent availability, and maintaining their properties.\n",
        "Provide incentives for hosts with excellent ratings, such as priority visibility on the platform.\n",
        "\n",
        "5. Leverage Popular Listings\n",
        "\n",
        "Insights Used:\n",
        "\n",
        "High-demand listings with consistent reviews can serve as benchmarks for success.\n",
        "\n",
        "Recommendation:\n",
        "\n",
        "Identify popular listings and analyze what makes them successful (e.g., pricing, amenities, location).\n",
        "Share these best practices with other hosts to improve their performance.\n",
        "\n",
        "6. Encourage Reviews and Ratings\n",
        "\n",
        "Insights Used:\n",
        "\n",
        "Listings with higher reviews tend to attract more bookings and maintain consistent demand.\n",
        "\n",
        "Recommendation:\n",
        "\n",
        "Encourage guests to leave reviews through automated follow-ups and small incentives (e.g., discounts on future stays).\n",
        "Highlight guest reviews prominently on the platform to build trust with potential customers.\n",
        "\n",
        "7. Address Outliers and Underperforming Listings\n",
        "\n",
        "Insights Used:\n",
        "\n",
        "Some listings with extremely high prices or restrictive policies perform poorly in terms of availability and reviews.\n",
        "\n",
        "Recommendation:\n",
        "\n",
        "Work with hosts of underperforming listings to review their pricing and policies.\n",
        "Provide personalized recommendations to improve listing performance.\n",
        "\n",
        "8. Promote Year-Round Availability\n",
        "\n",
        "Insights Used:\n",
        "\n",
        "Listings with higher availability receive more reviews and are more active overall.\n",
        "\n",
        "Recommendation:\n",
        "\n",
        "Encourage hosts to maintain year-round availability.\n",
        "Offer seasonal promotions to attract off-season travelers.\n",
        "\n",
        "9. Market Differentiation for Unique Listings\n",
        "\n",
        "Insights Used:\n",
        "\n",
        "Unique or high-priced listings cater to niche markets but require more visibility to attract bookings.\n",
        "\n",
        "Recommendation:\n",
        "\n",
        "Promote luxury or unique experiences (e.g., themed stays, premium amenities) to differentiate listings.\n",
        "Target these to travelers looking for curated experiences.\n",
        "\n",
        "10. Feature and Trend Analysis\n",
        "\n",
        "Insights Used:\n",
        "\n",
        "Correlation between features like reviews, price, and availability drives booking behavior.\n",
        "\n",
        "Recommendation:\n",
        "\n",
        "Continuously monitor trends in guest preferences and update platform recommendations to reflect popular features.\n",
        "\n",
        "Expected Outcomes\n",
        "\n",
        "Increased Occupancy: Optimizing pricing and availability will attract more bookings.\n",
        "\n",
        "Enhanced Revenue: Dynamic pricing and improved policies will drive higher\n",
        "revenue for hosts and the platform.\n",
        "\n",
        "Improved Customer Experience: Encouraging reviews and active host engagement ensures guest satisfaction.\n",
        "\n",
        "Strategic Growth: Leveraging location-based strategies and popular listings will drive demand across all boroughs."
      ],
      "metadata": {
        "id": "pASKb0qOza21"
      }
    },
    {
      "cell_type": "markdown",
      "source": [
        "# **Conclusion**"
      ],
      "metadata": {
        "id": "gCX9965dhzqZ"
      }
    },
    {
      "cell_type": "markdown",
      "source": [
        "Key Takeaways\n",
        "\n",
        "1. Pricing and Demand\n",
        "\n",
        "Budget listings are more frequently booked and reviewed.\n",
        "Premium listings cater to niche markets and require tailored strategies to sustain demand.\n",
        "\n",
        "2. Availability and Policies\n",
        "\n",
        "Listings with higher availability and flexible minimum night policies perform better in terms of occupancy and reviews.\n",
        "\n",
        "3. Geographic Impact\n",
        "\n",
        "Location significantly influences pricing and demand, with boroughs like Manhattan commanding higher prices.\n",
        "\n",
        "4. Reviews and Guest Satisfaction\n",
        "\n",
        "Listings with frequent and positive reviews maintain steady demand, indicating the importance of guest engagement and feedback.\n",
        "\n",
        "5. Host Engagement\n",
        "\n",
        "Active and responsive hosts significantly improve listing performance and guest satisfaction.\n",
        "\n",
        "6. Outliers and Opportunities\n",
        "\n",
        "High-priced or restrictive listings often underperform, highlighting opportunities to optimize underutilized properties.\n",
        "\n",
        "###Business Impact\n",
        "\n",
        "By implementing the recommendations derived from this analysis, hosts and the platform can:\n",
        "\n",
        "* Increase occupancy rates and revenue.\n",
        "* Enhance the guest experience through better availability and improved policies.\n",
        "* Strengthen the platform’s position in the competitive short-term rental market by leveraging location-based marketing and targeted pricing.\n",
        "\n",
        "###Final Note\n",
        "\n",
        "This project demonstrates the power of data-driven decision-making. By continuously analyzing trends and updating strategies, Airbnb and its hosts can remain agile and adaptive to market demands, ensuring sustained growth and profitability.\n",
        "\n",
        "\n",
        "\n",
        "\n",
        "\n",
        "\n",
        "\n",
        "\n"
      ],
      "metadata": {
        "id": "Fjb1IsQkh3yE"
      }
    },
    {
      "cell_type": "markdown",
      "source": [
        "### ***Hurrah! You have successfully completed your EDA Capstone Project !!!***"
      ],
      "metadata": {
        "id": "gIfDvo9L0UH2"
      }
    }
  ]
}